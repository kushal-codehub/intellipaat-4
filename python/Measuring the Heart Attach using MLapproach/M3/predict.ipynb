{
 "cells": [
  {
   "cell_type": "code",
   "execution_count": 7,
   "id": "e8a51d98",
   "metadata": {},
   "outputs": [],
   "source": [
    "import numpy as np\n",
    "import pandas as pd\n",
    "import datetime\n",
    "import time"
   ]
  },
  {
   "cell_type": "code",
   "execution_count": 9,
   "id": "686b155e",
   "metadata": {},
   "outputs": [],
   "source": [
    "from firebase import firebase\n",
    "fixefixed_interval = 3\n",
    "#firebase = firebase.FirebaseApplication('https://heart-1314b-default-rtdb.firebaseio.com/', None)\n",
    "firebase = firebase.FirebaseApplication('https://heart-disease-194eb-default-rtdb.firebaseio.com/', None)\n",
    "count=1\n",
    "\n",
    "    \n",
    "    #Getting rid of pesky warnings\n",
    "def warn(*args, **kwargs):\n",
    "    pass\n",
    "import warnings\n",
    "warnings.warn = warn\n",
    "np.warnings.filterwarnings('ignore')"
   ]
  },
  {
   "cell_type": "code",
   "execution_count": 10,
   "id": "96c93bce",
   "metadata": {},
   "outputs": [],
   "source": [
    "column_names = [\n",
    "            \"age\",  #1\n",
    "            \"sex\",  #2\n",
    "            \"cp\",  #3\n",
    "            \"trestbp\",  #4\n",
    "            \"chol\",  #5\n",
    "            \"fbs\",   #6\n",
    "            \"restecg\",  #7\n",
    "            \"thalach\",  #8\n",
    "            \"exang\", #9\n",
    "            \"oldpeak\",  #10\n",
    "            \"slope\",  #11\n",
    "            \"ca\", #12\n",
    "            \"thal\", #13\n",
    "            \"target\"  #14\n",
    "        ]"
   ]
  },
  {
   "cell_type": "code",
   "execution_count": 11,
   "id": "bbf72a34",
   "metadata": {},
   "outputs": [],
   "source": [
    "location = './dataset/Preprocessed_Dataset.csv'\n",
    "dataset = pd.read_csv(location)\n",
    "dataset = dataset.sample(frac=1).reset_index(drop=True)\n",
    "X = dataset.iloc[:,dataset.columns != 'target'].values\n",
    "y=dataset.iloc[:,dataset.columns=='target'].values"
   ]
  },
  {
   "cell_type": "code",
   "execution_count": 12,
   "id": "fea24f6c",
   "metadata": {},
   "outputs": [],
   "source": [
    "from sklearn.model_selection._split import train_test_split\n",
    "    #from imblearn.combine import SMOTEENN\n",
    "    #smote_enn = SMOTEENN()\n",
    "    #X_resampled, y_resampled = smote_enn.fit_sample(X, Y)\n",
    "X_train, X_test, Y_Train, Y_Test = train_test_split(X,y, test_size=0.3)\n"
   ]
  },
  {
   "cell_type": "code",
   "execution_count": 13,
   "id": "4304b815",
   "metadata": {},
   "outputs": [],
   "source": [
    "import sklearn.pipeline\n",
    "from sklearn.neural_network import MLPClassifier\n",
    "from sklearn.decomposition import KernelPCA\n",
    "from imblearn.pipeline import make_pipeline\n"
   ]
  },
  {
   "cell_type": "code",
   "execution_count": 14,
   "id": "3e5c1a92",
   "metadata": {},
   "outputs": [
    {
     "data": {
      "text/html": [
       "<style>#sk-container-id-1 {color: black;background-color: white;}#sk-container-id-1 pre{padding: 0;}#sk-container-id-1 div.sk-toggleable {background-color: white;}#sk-container-id-1 label.sk-toggleable__label {cursor: pointer;display: block;width: 100%;margin-bottom: 0;padding: 0.3em;box-sizing: border-box;text-align: center;}#sk-container-id-1 label.sk-toggleable__label-arrow:before {content: \"▸\";float: left;margin-right: 0.25em;color: #696969;}#sk-container-id-1 label.sk-toggleable__label-arrow:hover:before {color: black;}#sk-container-id-1 div.sk-estimator:hover label.sk-toggleable__label-arrow:before {color: black;}#sk-container-id-1 div.sk-toggleable__content {max-height: 0;max-width: 0;overflow: hidden;text-align: left;background-color: #f0f8ff;}#sk-container-id-1 div.sk-toggleable__content pre {margin: 0.2em;color: black;border-radius: 0.25em;background-color: #f0f8ff;}#sk-container-id-1 input.sk-toggleable__control:checked~div.sk-toggleable__content {max-height: 200px;max-width: 100%;overflow: auto;}#sk-container-id-1 input.sk-toggleable__control:checked~label.sk-toggleable__label-arrow:before {content: \"▾\";}#sk-container-id-1 div.sk-estimator input.sk-toggleable__control:checked~label.sk-toggleable__label {background-color: #d4ebff;}#sk-container-id-1 div.sk-label input.sk-toggleable__control:checked~label.sk-toggleable__label {background-color: #d4ebff;}#sk-container-id-1 input.sk-hidden--visually {border: 0;clip: rect(1px 1px 1px 1px);clip: rect(1px, 1px, 1px, 1px);height: 1px;margin: -1px;overflow: hidden;padding: 0;position: absolute;width: 1px;}#sk-container-id-1 div.sk-estimator {font-family: monospace;background-color: #f0f8ff;border: 1px dotted black;border-radius: 0.25em;box-sizing: border-box;margin-bottom: 0.5em;}#sk-container-id-1 div.sk-estimator:hover {background-color: #d4ebff;}#sk-container-id-1 div.sk-parallel-item::after {content: \"\";width: 100%;border-bottom: 1px solid gray;flex-grow: 1;}#sk-container-id-1 div.sk-label:hover label.sk-toggleable__label {background-color: #d4ebff;}#sk-container-id-1 div.sk-serial::before {content: \"\";position: absolute;border-left: 1px solid gray;box-sizing: border-box;top: 0;bottom: 0;left: 50%;z-index: 0;}#sk-container-id-1 div.sk-serial {display: flex;flex-direction: column;align-items: center;background-color: white;padding-right: 0.2em;padding-left: 0.2em;position: relative;}#sk-container-id-1 div.sk-item {position: relative;z-index: 1;}#sk-container-id-1 div.sk-parallel {display: flex;align-items: stretch;justify-content: center;background-color: white;position: relative;}#sk-container-id-1 div.sk-item::before, #sk-container-id-1 div.sk-parallel-item::before {content: \"\";position: absolute;border-left: 1px solid gray;box-sizing: border-box;top: 0;bottom: 0;left: 50%;z-index: -1;}#sk-container-id-1 div.sk-parallel-item {display: flex;flex-direction: column;z-index: 1;position: relative;background-color: white;}#sk-container-id-1 div.sk-parallel-item:first-child::after {align-self: flex-end;width: 50%;}#sk-container-id-1 div.sk-parallel-item:last-child::after {align-self: flex-start;width: 50%;}#sk-container-id-1 div.sk-parallel-item:only-child::after {width: 0;}#sk-container-id-1 div.sk-dashed-wrapped {border: 1px dashed gray;margin: 0 0.4em 0.5em 0.4em;box-sizing: border-box;padding-bottom: 0.4em;background-color: white;}#sk-container-id-1 div.sk-label label {font-family: monospace;font-weight: bold;display: inline-block;line-height: 1.2em;}#sk-container-id-1 div.sk-label-container {text-align: center;}#sk-container-id-1 div.sk-container {/* jupyter's `normalize.less` sets `[hidden] { display: none; }` but bootstrap.min.css set `[hidden] { display: none !important; }` so we also need the `!important` here to be able to override the default hidden behavior on the sphinx rendered scikit-learn.org. See: https://github.com/scikit-learn/scikit-learn/issues/21755 */display: inline-block !important;position: relative;}#sk-container-id-1 div.sk-text-repr-fallback {display: none;}</style><div id=\"sk-container-id-1\" class=\"sk-top-container\"><div class=\"sk-text-repr-fallback\"><pre>Pipeline(steps=[(&#x27;kernelpca&#x27;, KernelPCA()),\n",
       "                (&#x27;mlpclassifier&#x27;,\n",
       "                 MLPClassifier(activation=&#x27;tanh&#x27;, solver=&#x27;lbfgs&#x27;))])</pre><b>In a Jupyter environment, please rerun this cell to show the HTML representation or trust the notebook. <br />On GitHub, the HTML representation is unable to render, please try loading this page with nbviewer.org.</b></div><div class=\"sk-container\" hidden><div class=\"sk-item sk-dashed-wrapped\"><div class=\"sk-label-container\"><div class=\"sk-label sk-toggleable\"><input class=\"sk-toggleable__control sk-hidden--visually\" id=\"sk-estimator-id-1\" type=\"checkbox\" ><label for=\"sk-estimator-id-1\" class=\"sk-toggleable__label sk-toggleable__label-arrow\">Pipeline</label><div class=\"sk-toggleable__content\"><pre>Pipeline(steps=[(&#x27;kernelpca&#x27;, KernelPCA()),\n",
       "                (&#x27;mlpclassifier&#x27;,\n",
       "                 MLPClassifier(activation=&#x27;tanh&#x27;, solver=&#x27;lbfgs&#x27;))])</pre></div></div></div><div class=\"sk-serial\"><div class=\"sk-item\"><div class=\"sk-estimator sk-toggleable\"><input class=\"sk-toggleable__control sk-hidden--visually\" id=\"sk-estimator-id-2\" type=\"checkbox\" ><label for=\"sk-estimator-id-2\" class=\"sk-toggleable__label sk-toggleable__label-arrow\">KernelPCA</label><div class=\"sk-toggleable__content\"><pre>KernelPCA()</pre></div></div></div><div class=\"sk-item\"><div class=\"sk-estimator sk-toggleable\"><input class=\"sk-toggleable__control sk-hidden--visually\" id=\"sk-estimator-id-3\" type=\"checkbox\" ><label for=\"sk-estimator-id-3\" class=\"sk-toggleable__label sk-toggleable__label-arrow\">MLPClassifier</label><div class=\"sk-toggleable__content\"><pre>MLPClassifier(activation=&#x27;tanh&#x27;, solver=&#x27;lbfgs&#x27;)</pre></div></div></div></div></div></div></div>"
      ],
      "text/plain": [
       "Pipeline(steps=[('kernelpca', KernelPCA()),\n",
       "                ('mlpclassifier',\n",
       "                 MLPClassifier(activation='tanh', solver='lbfgs'))])"
      ]
     },
     "execution_count": 14,
     "metadata": {},
     "output_type": "execute_result"
    }
   ],
   "source": [
    "clf = MLPClassifier(solver='lbfgs', learning_rate='constant', activation='tanh')\n",
    "kernel = KernelPCA()\n",
    "    \n",
    "pipeline = make_pipeline(kernel, clf)\n",
    "pipeline.fit(X_train, Y_Train)"
   ]
  },
  {
   "cell_type": "code",
   "execution_count": 15,
   "id": "736ca094",
   "metadata": {},
   "outputs": [
    {
     "name": "stdout",
     "output_type": "stream",
     "text": [
      " \n",
      " \n",
      " \n",
      " \n",
      " \n",
      " \n",
      "###########################################################################################\n",
      "##                       Heart attack Possibility prediction                             ##\n",
      "###########################################################################################\n"
     ]
    }
   ],
   "source": [
    "print(\" \\n \\n \")\n",
    "print(\" \\n \\n \")\n",
    "print(\"###########################################################################################\")\n",
    "print(\"##                       Heart attack Possibility prediction                             ##\")\n",
    "print(\"###########################################################################################\")\n",
    "v = []"
   ]
  },
  {
   "cell_type": "code",
   "execution_count": 16,
   "id": "7bcacfb5",
   "metadata": {},
   "outputs": [
    {
     "name": "stdout",
     "output_type": "stream",
     "text": [
      "--------------------------------------------------------------------------------------------\n",
      "\t\t\tage\t\t\t|\t\t2\n",
      "--------------------------------------------------------------------------------------------\n",
      "\t\t\tsex\t\t\t|\t\t3\n",
      "--------------------------------------------------------------------------------------------\n",
      "\t\t\tcp\t\t\t|\t\t3\n",
      "--------------------------------------------------------------------------------------------\n",
      "\t\t\ttrestbp\t\t\t|\t\t3\n",
      "--------------------------------------------------------------------------------------------\n",
      "\t\t\tchol\t\t\t|\t\t3\n",
      "--------------------------------------------------------------------------------------------\n",
      "\t\t\tfbs\t\t\t|\t\t4\n",
      "--------------------------------------------------------------------------------------------\n",
      "\t\t\trestecg\t\t\t|\t\t5\n",
      "--------------------------------------------------------------------------------------------\n",
      "\t\t\tthalach\t\t\t|\t\t4\n",
      "--------------------------------------------------------------------------------------------\n",
      "\t\t\texang\t\t\t|\t\t3\n",
      "--------------------------------------------------------------------------------------------\n",
      "\t\t\toldpeak\t\t\t|\t\t2\n",
      "--------------------------------------------------------------------------------------------\n",
      "\t\t\tslope\t\t\t|\t\t3\n",
      "--------------------------------------------------------------------------------------------\n",
      "\t\t\tca\t\t\t|\t\t4\n",
      "--------------------------------------------------------------------------------------------\n",
      "\t\t\tthal\t\t\t|\t\t3\n",
      "[['2' '3' '3' '3' '3' '4' '5' '4' '3' '2' '3' '4' '3']]\n"
     ]
    }
   ],
   "source": [
    "for i in column_names[:-1]:\n",
    "    print(\"--------------------------------------------------------------------------------------------\")\n",
    "    v.append(input(\"\\t\\t\\t\"+i+\"\\t\\t\\t|\\t\\t\"))\n",
    "    \n",
    "answer = np.array(v)\n",
    "\n",
    "answer = answer.reshape(1,-1)\n",
    "print(answer)"
   ]
  },
  {
   "cell_type": "code",
   "execution_count": 17,
   "id": "b2f90de8",
   "metadata": {},
   "outputs": [],
   "source": [
    "x = pipeline.predict(pd.DataFrame(answer))"
   ]
  },
  {
   "cell_type": "code",
   "execution_count": 21,
   "id": "4e54bcc3",
   "metadata": {},
   "outputs": [
    {
     "name": "stdout",
     "output_type": "stream",
     "text": [
      "###########################################################################################\n",
      "##                                 Please check your phone                               ##\n",
      "###########################################################################################\n",
      "predicted as not a heart disease\n"
     ]
    }
   ],
   "source": [
    "if x[0]==1:\n",
    "    print(\"###########################################################################################\")\n",
    "    print(\"##                              Please check your phone                                  ##\")\n",
    "    print(\"###########################################################################################\")\n",
    "    print(\"predicted as Heart disease\")\n",
    "    datetime1=datetime.datetime.now()\n",
    "    date=datetime1.strftime(\"%x\")\n",
    "    time=datetime1.strftime(\"%X\")\n",
    "    day=datetime1.strftime(\"%A\")\n",
    "    device = \"42\"\n",
    "    status=\"heart-disease\"\n",
    "    data={\"Device_ID\":device,\"Status\":status,\"Date\":date,\"Time\":time,\"Day\":day}\n",
    "    firebase.put('', 'heart disease/Location 1', data)\n",
    "else:\n",
    "    print(\"###########################################################################################\")\n",
    "    print(\"##                                 Please check your phone                               ##\")\n",
    "    print(\"###########################################################################################\")\n",
    "\n",
    "    print(\"predicted as not a heart disease\")\n",
    "    datetime1=datetime.datetime.now()\n",
    "    date=datetime1.strftime(\"%x\")\n",
    "    time=datetime1.strftime(\"%X\")\n",
    "    day=datetime1.strftime(\"%A\")\n",
    "    device = \"42\"\n",
    "    status=\"No heart-disease\"\n",
    "    data={\"Device_ID\":device,\"Status\":status,\"Date\":date,\"Time\":time,\"Day\":day}\n",
    "    firebase.put('', 'heart disease/Location 1', data)"
   ]
  },
  {
   "cell_type": "code",
   "execution_count": null,
   "id": "ce537e10",
   "metadata": {},
   "outputs": [],
   "source": []
  },
  {
   "cell_type": "code",
   "execution_count": null,
   "id": "28a2b4ab",
   "metadata": {},
   "outputs": [],
   "source": []
  }
 ],
 "metadata": {
  "kernelspec": {
   "display_name": "Python 3 (ipykernel)",
   "language": "python",
   "name": "python3"
  },
  "language_info": {
   "codemirror_mode": {
    "name": "ipython",
    "version": 3
   },
   "file_extension": ".py",
   "mimetype": "text/x-python",
   "name": "python",
   "nbconvert_exporter": "python",
   "pygments_lexer": "ipython3",
   "version": "3.9.7"
  }
 },
 "nbformat": 4,
 "nbformat_minor": 5
}
